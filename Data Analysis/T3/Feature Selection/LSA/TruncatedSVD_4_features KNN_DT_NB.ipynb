version https://git-lfs.github.com/spec/v1
oid sha256:c6425514e5b7eb4daa94321ec8d71a3935f516b5cba49deff1b49a1539b2c6ca
size 48095
