version https://git-lfs.github.com/spec/v1
oid sha256:a7ddd796e2e69d81d86f608a3ff3af380bff8fba4fa51a476c7310b621ca6fc3
size 247781
