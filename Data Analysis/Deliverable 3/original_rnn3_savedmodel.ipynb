version https://git-lfs.github.com/spec/v1
oid sha256:15e7671f8a214d115159dc40e55d2eecba5537d66afbe0279f66a1ccbf150c05
size 40152
