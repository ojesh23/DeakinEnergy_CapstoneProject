version https://git-lfs.github.com/spec/v1
oid sha256:e97b8ad2e25ef7291bd08791f48426e4e1969867de51c88428437f6e13fddba7
size 670816
