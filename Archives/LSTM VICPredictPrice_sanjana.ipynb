version https://git-lfs.github.com/spec/v1
oid sha256:8899f1bf43947ae3782d4cd5408da12f1f82d9363ef6ca29c603c93f798cafc5
size 282567
